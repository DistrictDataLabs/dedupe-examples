{
 "cells": [
  {
   "cell_type": "markdown",
   "metadata": {},
   "source": [
    "# Exploring Entity Resolution with Dedupe in Python    \n",
    "\n",
    "## Clone repo and get started    \n",
    "\n",
    "To get started:    \n",
    "\n",
    "```bash\n",
    "git clone https://github.com/DistrictDataLabs/dedupe-examples.git\n",
    "cd dedupe-examples\n",
    "```\n",
    "\n",
    "The first example has us working with a list of early childhood education sites in Chicago from 10 different sources.\n",
    "```bash\n",
    "cd csv_example   \n",
    "```\n",
    "\n",
    "## Data exploration\n",
    "Let's check out the data before we get any further:"
   ]
  },
  {
   "cell_type": "code",
   "execution_count": null,
   "metadata": {
    "collapsed": false
   },
   "outputs": [],
   "source": [
    "import pandas as pd\n",
    "df = pd.read_csv(\"../dedupe-examples/csv_example/csv_example_messy_input.csv\", index_col=\"Id\")"
   ]
  },
  {
   "cell_type": "code",
   "execution_count": null,
   "metadata": {
    "collapsed": false
   },
   "outputs": [],
   "source": [
    "df.shape"
   ]
  },
  {
   "cell_type": "code",
   "execution_count": null,
   "metadata": {
    "collapsed": false
   },
   "outputs": [],
   "source": [
    "list(df)"
   ]
  },
  {
   "cell_type": "code",
   "execution_count": null,
   "metadata": {
    "collapsed": false
   },
   "outputs": [],
   "source": [
    "df.head(10)"
   ]
  },
  {
   "cell_type": "code",
   "execution_count": null,
   "metadata": {
    "collapsed": false
   },
   "outputs": [],
   "source": [
    "df[\"Site name\"].duplicated()  # also look for duplicates in other columns"
   ]
  },
  {
   "cell_type": "markdown",
   "metadata": {
    "collapsed": true
   },
   "source": [
    "## Testing out `dedupe`\n",
    "\n",
    "Looks like a lot of duplicates!    \n",
    "Let's experiment with the dedupe library to try cleaning it up.    \n",
    "\n",
    "In your terminal:\n",
    "```bash\n",
    "pip install unidecode\n",
    "pip install future\n",
    "pip install dedupe\n",
    "python csv_example.py\n",
    "```    \n",
    "\n",
    "You can see that `dedupe` is a command line application that will prompt the user to engage in active learning by showing pairs of entities and asking if they are the same or different.\n",
    "\n",
    "    Do these records refer to the same thing?\n",
    "    (y)es / (n)o / (u)nsure / (f)inished\n",
    "\n",
    "Let's start training! \n",
    "Use 'y', 'n' and 'u' keys to flag duplicates for active learning.    \n",
    "\n",
    "When you are finished, enter 'f' to quit.    "
   ]
  },
  {
   "cell_type": "markdown",
   "metadata": {},
   "source": [
    "## Questions\n",
    "\n",
    "1. In general, how does [`dedupe`](http://datamade.github.io/dedupe-examples/docs/csv_example.html) work?\n",
    "2. How does the active learning method work?    \n",
    "3. How does `dedupe` decide [which data fields](https://github.com/DistrictDataLabs/dedupe-examples/blob/master/csv_example/csv_example.py#L91) to include in the training? How would this work differently/better/worse with the dataset you have been working with for the last two weeks?      \n",
    "4. How does `dedupe` treat yeses, nos, and unsures?    \n",
    "5. What do you like about `dedupe`?    \n",
    "6. What would make `dedupe` better? (And what do we mean by \"better\"?)    "
   ]
  }
 ],
 "metadata": {
  "kernelspec": {
   "display_name": "Python 2",
   "language": "python",
   "name": "python2"
  },
  "language_info": {
   "codemirror_mode": {
    "name": "ipython",
    "version": 2
   },
   "file_extension": ".py",
   "mimetype": "text/x-python",
   "name": "python",
   "nbconvert_exporter": "python",
   "pygments_lexer": "ipython2",
   "version": "2.7.10"
  }
 },
 "nbformat": 4,
 "nbformat_minor": 0
}
