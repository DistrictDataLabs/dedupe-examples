{
 "cells": [
  {
   "cell_type": "markdown",
   "metadata": {},
   "source": [
    "# Exploring Entity Resolution with Dedupe in Python"
   ]
  },
  {
   "cell_type": "code",
   "execution_count": null,
   "metadata": {
    "collapsed": true
   },
   "outputs": [],
   "source": []
  },
  {
   "cell_type": "markdown",
   "metadata": {},
   "source": [
    "This example works with a list of early childhood education sites in Chicago from 10 different sources. To get started:    \n",
    "\n",
    "\n",
    "    git clone https://github.com/datamade/dedupe-examples.git\n",
    "    cd dedupe-examples\n",
    "    cd csv_example   \n",
    "    pip install unidecode\n",
    "    pip install future\n",
    "    pip install dedupe\n",
    "    python csv_example.py\n",
    "    \n",
    "\n",
    "Start training!    \n",
    "Use 'y', 'n' and 'u' keys to flag duplicates for active learning, and 'f' when you are finished."
   ]
  },
  {
   "cell_type": "code",
   "execution_count": null,
   "metadata": {
    "collapsed": true
   },
   "outputs": [],
   "source": []
  }
 ],
 "metadata": {
  "kernelspec": {
   "display_name": "Python 2",
   "language": "python",
   "name": "python2"
  },
  "language_info": {
   "codemirror_mode": {
    "name": "ipython",
    "version": 2
   },
   "file_extension": ".py",
   "mimetype": "text/x-python",
   "name": "python",
   "nbconvert_exporter": "python",
   "pygments_lexer": "ipython2",
   "version": "2.7.10"
  }
 },
 "nbformat": 4,
 "nbformat_minor": 0
}
